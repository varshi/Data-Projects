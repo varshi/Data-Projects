{
  "nbformat": 4,
  "nbformat_minor": 0,
  "metadata": {
    "colab": {
      "provenance": [],
      "authorship_tag": "ABX9TyM2IprLS3x4SRVaAyqc3+zF",
      "include_colab_link": true
    },
    "kernelspec": {
      "name": "python3",
      "display_name": "Python 3"
    },
    "language_info": {
      "name": "python"
    }
  },
  "cells": [
    {
      "cell_type": "markdown",
      "metadata": {
        "id": "view-in-github",
        "colab_type": "text"
      },
      "source": [
        "<a href=\"https://colab.research.google.com/github/varshi/Data-Projects/blob/main/Sentiment%20Analysis%20using%20NLP/sentiment_analysis.ipynb\" target=\"_parent\"><img src=\"https://colab.research.google.com/assets/colab-badge.svg\" alt=\"Open In Colab\"/></a>"
      ]
    },
    {
      "cell_type": "code",
      "execution_count": null,
      "metadata": {
        "id": "Quwpiq0vvL3H"
      },
      "outputs": [],
      "source": [
        "# Install & Import\n",
        "\n",
        "!pip install -q scikit-learn pandas numpy matplotlib seaborn nltk transformers\n",
        "import pandas as pd\n",
        "import numpy as np\n",
        "import matplotlib.pyplot as plt\n",
        "import seaborn as sns\n",
        "import re\n",
        "import nltk\n",
        "from sklearn.model_selection import train_test_split\n",
        "from sklearn.feature_extraction.text import TfidfVectorizer\n",
        "from sklearn.ensemble import RandomForestClassifier, GradientBoostingClassifier, VotingClassifier\n",
        "from sklearn.metrics import accuracy_score, confusion_matrix, classification_report\n",
        "from sklearn.decomposition import PCA\n",
        "nltk.download('stopwords')\n",
        "from nltk.corpus import stopwords\n"
      ]
    },
    {
      "cell_type": "code",
      "source": [
        "# Load the manually uploaded dataset\n",
        "df = pd.read_csv(\"/content/sample_app_reviews (2).csv\")\n",
        "df.head()"
      ],
      "metadata": {
        "id": "2DC_reOm0qJj"
      },
      "execution_count": null,
      "outputs": []
    },
    {
      "source": [
        "# @title label\n",
        "\n",
        "from matplotlib import pyplot as plt\n",
        "df['label'].plot(kind='line', figsize=(8, 4), title='label')\n",
        "plt.gca().spines[['top', 'right']].set_visible(False)"
      ],
      "cell_type": "code",
      "execution_count": null,
      "outputs": [],
      "metadata": {
        "id": "XHUIjy7S4r55"
      }
    },
    {
      "cell_type": "code",
      "source": [
        "# Clean Reviews\n",
        "stop_words = set(stopwords.words('english'))\n",
        "\n",
        "def clean_text(text):\n",
        "    text = re.sub(r'[^a-zA-Z\\\\s]', '', text.lower())\n",
        "    words = text.split()\n",
        "    return ' '.join([w for w in words if w not in stop_words])\n",
        "\n",
        "df['clean_review'] = df['Translated_Review'].apply(clean_text)\n"
      ],
      "metadata": {
        "id": "kyin2i2X1X3E"
      },
      "execution_count": null,
      "outputs": []
    },
    {
      "cell_type": "code",
      "source": [
        "# TF-IDF and PCA\n",
        "vectorizer = TfidfVectorizer(max_features=100)\n",
        "X = vectorizer.fit_transform(df['clean_review'])\n",
        "y = df['label']\n",
        "\n",
        "pca = PCA(n_components=5)\n",
        "X_reduced = pca.fit_transform(X.toarray())\n",
        "\n",
        "plt.plot(np.cumsum(pca.explained_variance_ratio_))\n",
        "plt.title(\"PCA Explained Variance\")\n",
        "plt.xlabel(\"Components\")\n",
        "plt.ylabel(\"Variance\")\n",
        "plt.grid(True)\n",
        "plt.show()\n"
      ],
      "metadata": {
        "id": "oyH96mnr1feq"
      },
      "execution_count": null,
      "outputs": []
    },
    {
      "cell_type": "code",
      "source": [
        "# Train Models\n",
        "X_train, X_test, y_train, y_test = train_test_split(X_reduced, y, test_size=0.2, random_state=42)\n",
        "\n",
        "rf = RandomForestClassifier(n_estimators=100, random_state=42)\n",
        "gb = GradientBoostingClassifier(n_estimators=100, random_state=42)\n",
        "ensemble = VotingClassifier(estimators=[('rf', rf), ('gb', gb)], voting='soft')\n",
        "ensemble.fit(X_train, y_train)\n"
      ],
      "metadata": {
        "id": "iGdcK5IF1pcT"
      },
      "execution_count": null,
      "outputs": []
    },
    {
      "cell_type": "code",
      "source": [
        "# Evaluate\n",
        "y_pred = ensemble.predict(X_test)\n",
        "acc = accuracy_score(y_test, y_pred)\n",
        "cm = confusion_matrix(y_test, y_pred)\n",
        "type1_error = cm[0][1] / (cm[0][0] + cm[0][1]) if (cm[0][0] + cm[0][1]) else 0\n",
        "\n",
        "print(f\"✅ Accuracy: {acc*100:.2f}%\")\n",
        "print(f\"❗ Type I Error: {type1_error*100:.2f}%\")\n",
        "print(\"\\nClassification Report:\\n\", classification_report(y_test, y_pred))\n",
        "\n",
        "sns.heatmap(cm, annot=True, fmt='d', cmap='Blues')\n",
        "plt.title(\"Confusion Matrix\")\n",
        "plt.xlabel(\"Predicted\")\n",
        "plt.ylabel(\"Actual\")\n",
        "plt.show()\n"
      ],
      "metadata": {
        "id": "-0PQ8XQr1tNy"
      },
      "execution_count": null,
      "outputs": []
    },
    {
      "cell_type": "code",
      "source": [
        "#RoBERTa Setup Cell:\n",
        "from transformers import AutoTokenizer, AutoModelForSequenceClassification\n",
        "from scipy.special import softmax\n",
        "\n",
        "tokenizer = AutoTokenizer.from_pretrained(\"cardiffnlp/twitter-roberta-base-sentiment\")\n",
        "model = AutoModelForSequenceClassification.from_pretrained(\"cardiffnlp/twitter-roberta-base-sentiment\")\n",
        "\n",
        "def roberta_predict(text):\n",
        "    inputs = tokenizer(text, return_tensors=\"pt\", truncation=True)\n",
        "    outputs = model(**inputs)\n",
        "    scores = softmax(outputs.logits.detach().numpy()[0])\n",
        "    return np.argmax(scores)  # 0 = neg, 1 = neutral, 2 = pos\n"
      ],
      "metadata": {
        "id": "Y9WZGQlu224K"
      },
      "execution_count": null,
      "outputs": []
    },
    {
      "cell_type": "code",
      "source": [
        "#RoBERTa Evaluation Cell\n",
        "sample_reviews = df['Translated_Review'].iloc[:100].tolist()\n",
        "sample_labels = df['label'].iloc[:100].tolist()\n",
        "roberta_preds = [1 if roberta_predict(r) == 2 else 0 for r in sample_reviews]\n",
        "\n",
        "from sklearn.metrics import accuracy_score, confusion_matrix\n",
        "roberta_acc = accuracy_score(sample_labels, roberta_preds)\n",
        "roberta_cm = confusion_matrix(sample_labels, roberta_preds)\n",
        "roberta_type1 = roberta_cm[0][1] / (roberta_cm[0][0] + roberta_cm[0][1]) if (roberta_cm[0][0] + roberta_cm[0][1]) else 0\n",
        "\n",
        "print(f\"🤖 RoBERTa Accuracy: {roberta_acc*100:.2f}%\")\n",
        "print(f\"❗ Type I Error: {roberta_type1*100:.2f}%\")\n",
        "\n",
        "import seaborn as sns\n",
        "import matplotlib.pyplot as plt\n",
        "sns.heatmap(roberta_cm, annot=True, fmt='d', cmap='Purples')\n",
        "plt.title(\"RoBERTa Confusion Matrix\")\n",
        "plt.xlabel(\"Predicted\")\n",
        "plt.ylabel(\"Actual\")\n",
        "plt.show()\n"
      ],
      "metadata": {
        "id": "VTBAGfLW3TZ7"
      },
      "execution_count": null,
      "outputs": []
    }
  ]
}